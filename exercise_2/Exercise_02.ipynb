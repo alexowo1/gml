{
 "cells": [
  {
   "cell_type": "markdown",
   "metadata": {},
   "source": [
    "# FML Exercise 2: Evaluation of the Perceptron Learner"
   ]
  },
  {
   "cell_type": "code",
   "execution_count": 2,
   "metadata": {},
   "outputs": [],
   "source": [
    "import numpy as np\n",
    "import sklearn.linear_model as lm\n",
    "import matplotlib.pyplot as plt"
   ]
  },
  {
   "cell_type": "markdown",
   "metadata": {},
   "source": [
    "## Load `digits` dataset"
   ]
  },
  {
   "cell_type": "code",
   "execution_count": null,
   "metadata": {},
   "outputs": [],
   "source": [
    "data = np.char.encode(\n",
    "    np.loadtxt(\"digits.txt\", dtype=str), \"ascii\"\n",
    ")  # Read data as array of ASCII strings\n",
    "data = (\n",
    "    (data.view(\"S1\") == b\"1\").astype(np.int8).reshape((-1, 1024))\n",
    ")  # Convert strings into 8-bit integer arrays\n",
    "classes = np.array([0, 1, 8])\n",
    "y = np.repeat(classes.reshape((-1, 1)), 50, axis=-1).reshape(\n",
    "    -1\n",
    ")  # Array of 50 \"0\", 50 \"1\"s and 50 \"8\"s"
   ]
  },
  {
   "cell_type": "code",
   "execution_count": null,
   "metadata": {},
   "outputs": [
    {
     "name": "stdout",
     "output_type": "stream",
     "text": [
      "Plot of 6 example data points (images) and labels from the dataset:\n"
     ]
    },
    {
     "data": {
      "image/png": "[encoded data removed]",
      "text/plain": [
       "<Figure size 640x480 with 6 Axes>"
      ]
     },
     "metadata": {},
     "output_type": "display_data"
    }
   ],
   "source": [
    "def plot_images(data, ys, pred_ys=None):\n",
    "    l = len(data)\n",
    "    fig, axs = plt.subplots(ncols=l)\n",
    "    if l == 1:\n",
    "        axs = [axs]\n",
    "    if pred_ys is None:\n",
    "        pred_ys = [None] * l\n",
    "    for ax, img, y, pred_y in zip(axs, data, ys, pred_ys):\n",
    "        ax.imshow(img.reshape((32, 32)))\n",
    "        ax.axis(\"off\")\n",
    "        if pred_y is None:\n",
    "            ax.title.set_text(f\"Label: {y}\")\n",
    "        else:\n",
    "            ax.title.set_text(f\"Label: {y} / Prediction: {pred_y}\")\n",
    "\n",
    "    plt.show()\n",
    "\n",
    "\n",
    "print(\"Plot of 6 example data points (images) and labels from the dataset:\")\n",
    "example_instances = [0, 10, 50, 60, 100, 110]\n",
    "plot_images(data[example_instances], y[example_instances])"
   ]
  },
  {
   "cell_type": "markdown",
   "metadata": {},
   "source": [
    "## Partition the dataset for LOO-CV\n",
    "\n",
    "For Leave-one-out Cross Validation, we partition the dataset into 150 train/test splits.\n",
    "Each instance (i.e., image) is used exactly once as a test instance, while the respective remaining instances are used for training."
   ]
  },
  {
   "cell_type": "code",
   "execution_count": null,
   "metadata": {},
   "outputs": [],
   "source": [
    "def train_test_split(data, y, idx):\n",
    "    train_data = np.delete(data, [idx], axis=0)\n",
    "    train_y = np.delete(y, [idx])\n",
    "    test_data = data[[idx]]\n",
    "    test_y = y[[idx]]\n",
    "    return train_data, train_y, test_data, test_y\n",
    "\n",
    "\n",
    "cv_partitions = [train_test_split(data, y, idx) for idx in range(data.shape[0])]"
   ]
  },
  {
   "cell_type": "markdown",
   "metadata": {},
   "source": [
    "`cv_partitions` is a list of 150 train/test splits of the `digits` dataset.\n",
    "Each split is represented as a 4-tuple `(train_data, train_y, test_data, test_y)` containing the training instances + target values and the respective test instance + target value."
   ]
  },
  {
   "cell_type": "markdown",
   "metadata": {},
   "source": [
    "## Training of a `Perceptron` model using scikit-learn"
   ]
  },
  {
   "cell_type": "code",
   "execution_count": null,
   "metadata": {},
   "outputs": [],
   "source": [
    "def train_perceptron_model(\n",
    "    train_data: np.ndarray, train_y: np.ndarray\n",
    ") -> lm.Perceptron:\n",
    "\n",
    "    model = lm.Perceptron()\n",
    "\n",
    "    model.fit(train_data, train_y)\n",
    "\n",
    "    return model"
   ]
  },
  {
   "cell_type": "markdown",
   "metadata": {},
   "source": [
    "You can use the `train_perceptron_model` function to train a Perceptron model using the PLA algorithm.\n",
    "- For the one-vs-rest setting, you can obtain the real-valued confidence score for a given test instance by calling `model.decision_function(test_data)`.\n",
    "- For the one-vs-one setting, you can obtain a binary prediction for a given test instance by calling `model.predict(test_data)`. "
   ]
  },
  {
   "cell_type": "markdown",
   "metadata": {},
   "source": [
    "## 1. Evaluation of the One-vs-Rest Approach"
   ]
  },
  {
   "cell_type": "markdown",
   "metadata": {},
   "source": [
    "We begin by evaluating the one-vs-rest approach.\n",
    "For this we have to train three binary classifiers, that are trained to solve the following three classification problems:\n",
    "- `0` vs `{1,8}`\n",
    "- `1` vs `{0,8}`\n",
    "- `8` vs `{0,1}`\n",
    "\n",
    "To train Perceptron models for those three classification tasks, we have to transform our multi-class `digits` dataset into three binary classification datasets.\n",
    "The `multiclass_to_ovr` function shows how this transformation can be done."
   ]
  },
  {
   "cell_type": "code",
   "execution_count": null,
   "metadata": {},
   "outputs": [],
   "source": [
    "def multiclass_to_ovr(train_data, train_y, cls):\n",
    "    return train_data, train_y == cls\n",
    "\n",
    "\n",
    "def train_ovr_perceptron_model(train_data, train_y, classes):\n",
    "    models = {\n",
    "        cls: train_perceptron_model(*multiclass_to_ovr(train_data, train_y, cls))\n",
    "        for cls in classes\n",
    "    }\n",
    "\n",
    "    def predict(test_data: np.ndarray):\n",
    "        predictions = []\n",
    "        # Iterate over test_instances:\n",
    "        for instance in test_data:  # CHALLENGE: Vectorize this loop.\n",
    "            max_confidence = np.NINF  # negative infinity\n",
    "            max_cls = None\n",
    "            for cls, model in models.items():\n",
    "                confidence = model.decision_function([instance])[0]\n",
    "                if confidence > max_confidence:\n",
    "                    max_confidence = confidence\n",
    "                    max_cls = cls\n",
    "            predictions.append(max_cls)\n",
    "        return np.array(predictions)\n",
    "\n",
    "    return predict"
   ]
  },
  {
   "cell_type": "markdown",
   "metadata": {},
   "source": [
    "The `train_ovr_perceptron_model` function calls the `multiclass_to_ovr` preprocessing function once for each class (`0`, `1`, `8`) and trains a Perceptron model using the `train_perceptron_model` defined above.\n",
    "It returns a function that takes an array of training instances and returns an array containing the classes with the highest confidence for each training instance.\n",
    "\n",
    "To show how `train_ovr_perceptron_model` is used, we now apply it to the first of the 150 LOO-CV train/test splits:"
   ]
  },
  {
   "cell_type": "code",
   "execution_count": 14,
   "metadata": {},
   "outputs": [
    {
     "data": {
      "image/png": "[encoded data removed]",
      "text/plain": [
       "<Figure size 640x480 with 1 Axes>"
      ]
     },
     "metadata": {},
     "output_type": "display_data"
    }
   ],
   "source": [
    "first_train_data, first_train_y, first_test_data, first_test_y = cv_partitions[0]\n",
    "\n",
    "predictor = train_ovr_perceptron_model(first_train_data, first_train_y, classes)\n",
    "first_test_pred_y = predictor(first_test_data)\n",
    "plot_images(first_test_data, first_test_y, first_test_pred_y)"
   ]
  },
  {
   "cell_type": "markdown",
   "metadata": {},
   "source": [
    "**Task:** Use the OvR approach to train a multiclass prediction model for all 150 LOO-CV partitions and count the total number of errors."
   ]
  },
  {
   "cell_type": "code",
   "execution_count": null,
   "metadata": {},
   "outputs": [],
   "source": [
    "errors = 0\n",
    "\n",
    "for i in range(150):\n",
    "    pass  # TODO\n",
    "\n",
    "print(f\"The OvR approach results in {errors} errors.\")"
   ]
  },
  {
   "cell_type": "markdown",
   "metadata": {},
   "source": [
    "## 2. Evaluation of the One-vs-One Approach"
   ]
  },
  {
   "cell_type": "markdown",
   "metadata": {},
   "source": [
    "Next, we evaluate the one-vs-one approach. For this we have to train a binary classifier for each pair of classes:\n",
    "- `0` vs `1`\n",
    "- `0` vs `8`\n",
    "- `1` vs `8`\n",
    "\n",
    "As we have already seen with the one-vs-rest approach, we again have to preprocess the dataset and turn it into three binary classification datasets for training."
   ]
  },
  {
   "cell_type": "code",
   "execution_count": null,
   "metadata": {},
   "outputs": [],
   "source": [
    "def multiclass_to_ovo(train_data, train_y, cls_a, cls_b):\n",
    "    mask = (train_y == cls_a) | (\n",
    "        train_y == cls_b\n",
    "    )  # Boolean mask marking all instances that have class a or class b.\n",
    "    masked_data = train_data[mask]\n",
    "    masked_y = train_y[mask] == cls_a\n",
    "    return masked_data, masked_y"
   ]
  },
  {
   "cell_type": "markdown",
   "metadata": {},
   "source": [
    "The `multiclass_to_ovo` function transforms the given instances and labels into a binary classification task for the classes `cls_a` and `cls_b`.\n",
    "Instances that are of neither `cls_a` nor `cls_b` are removed.\n",
    "\n",
    "**Task:** Use this preprocessing function to train a OvO each LOO-CV partition."
   ]
  },
  {
   "cell_type": "code",
   "execution_count": null,
   "metadata": {},
   "outputs": [],
   "source": [
    "# Exemplary usage of the function on the first train/test split for the '0' vs '1' case:\n",
    "first_train_data, first_train_y, first_test_data, first_test_y = cv_partitions[0]\n",
    "\n",
    "transformed_data, transformed_y = multiclass_to_ovo(\n",
    "    first_train_data, first_train_y, 0, 1\n",
    ")\n",
    "len(\n",
    "    transformed_data\n",
    ")  # Contains only 99 instances, since 50 '8's are removed for the '0' vs '1' case and one '0' is in the test split.\n",
    "\n",
    "# TODO: Implement OvO and evaluate it using LOO-CV"
   ]
  }
 ],
 "metadata": {
  "kernelspec": {
   "display_name": "Python 3.11.0 64-bit",
   "language": "python",
   "name": "python3"
  },
  "language_info": {
   "codemirror_mode": {
    "name": "ipython",
    "version": 3
   },
   "file_extension": ".py",
   "mimetype": "text/x-python",
   "name": "python",
   "nbconvert_exporter": "python",
   "pygments_lexer": "ipython3",
   "version": "3.11.0"
  },
  "orig_nbformat": 4,
  "vscode": {
   "interpreter": {
    "hash": "bf1d2f64194ace10997c434eb354cb799c52230f6de3baccf2e25d391e28e00a"
   }
  }
 },
 "nbformat": 4,
 "nbformat_minor": 2
}
