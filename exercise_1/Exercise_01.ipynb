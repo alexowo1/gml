{
 "cells": [
  {
   "cell_type": "markdown",
   "metadata": {},
   "source": "# FML Exercise 1: Evaluation of the Nearest Neighbor Method"
  },
  {
   "cell_type": "code",
   "metadata": {
    "ExecuteTime": {
     "end_time": "2025-05-12T22:55:35.277510Z",
     "start_time": "2025-05-12T22:55:34.084007Z"
    }
   },
   "source": [
    "import numpy as np\n",
    "import sklearn.decomposition as decomp\n",
    "import matplotlib.pyplot as plt"
   ],
   "outputs": [],
   "execution_count": 1
  },
  {
   "cell_type": "markdown",
   "metadata": {},
   "source": [
    "## Prepare data"
   ]
  },
  {
   "cell_type": "code",
   "metadata": {
    "ExecuteTime": {
     "end_time": "2025-05-12T22:56:03.038738Z",
     "start_time": "2025-05-12T22:56:03.023528Z"
    }
   },
   "source": [
    "data = np.char.encode(np.loadtxt(\"digits.txt\", dtype=str), \"ascii\") # Read data as array of ASCII strings\n",
    "data = (data.view(\"S1\") == b'1').astype(np.int8).reshape((-1, 32, 32)) # Convert strings into 8-bit integer arrays\n",
    "y = np.repeat(np.array([0,1,8]).reshape((-1,1)), 50, axis=-1).reshape(-1) # Array of 50 \"0\", 50 \"1\"s and 50 \"8\"s"
   ],
   "outputs": [],
   "execution_count": 2
  },
  {
   "cell_type": "markdown",
   "metadata": {},
   "source": [
    "## Plot data\n",
    "\n",
    "We begin by plotting three sample images from the dataset."
   ]
  },
  {
   "cell_type": "code",
   "metadata": {
    "ExecuteTime": {
     "end_time": "2025-05-12T22:56:27.758994Z",
     "start_time": "2025-05-12T22:56:27.600090Z"
    }
   },
   "source": [
    "def plot_images(data, ys):\n",
    "  fig, axs = plt.subplots(ncols=len(data), nrows=1)\n",
    "  for i, (img, y) in enumerate(zip(data, ys)):\n",
    "    ax = axs[i]\n",
    "    ax.imshow(img)\n",
    "    ax.axis(\"off\")\n",
    "    ax.title.set_text(f\"Label: {y}\")\n",
    "    \n",
    "  plt.show()\n",
    "\n",
    "sample_idxs = [0,50,100]\n",
    "plot_images(data[sample_idxs], y[sample_idxs])"
   ],
   "outputs": [
    {
     "data": {
      "text/plain": [
       "<Figure size 640x480 with 3 Axes>"
      ],
      "image/png": "[encoded data removed]"
     },
     "metadata": {},
     "output_type": "display_data"
    }
   ],
   "execution_count": 3
  },
  {
   "cell_type": "markdown",
   "metadata": {},
   "source": [
    "## (a) NN with LOO-CV\n",
    "\n",
    "**Tip 1:**\n",
    "Note that NN has similarities to the $k$-means clustering algorithm, so you can adapt the implementation from the intro exercise.\n",
    "\n",
    "**Tip 2:**\n",
    "Since the features of the images are binary (a pixel is either black or white), you can use the so-called [Hamming distance](https://en.wikipedia.org/wiki/Hamming_distance), instead of the Euclidean distance for this exercise.\n",
    "The advantage of using the Hamming distance instead of the Euclidean distance is that it is cheaper to compute."
   ]
  },
  {
   "cell_type": "code",
   "execution_count": 4,
   "metadata": {},
   "outputs": [],
   "source": [
    "# TODO"
   ]
  },
  {
   "cell_type": "markdown",
   "metadata": {},
   "source": [
    "## (b) NN with LOO-CV using High-level Feature Embeddings"
   ]
  },
  {
   "cell_type": "code",
   "execution_count": 5,
   "metadata": {},
   "outputs": [],
   "source": [
    "# TODO"
   ]
  },
  {
   "cell_type": "markdown",
   "metadata": {},
   "source": [
    "## (c) Scatter plots of the image embeddings\n",
    "\n",
    "**Tip:** Take a look at the [`scatter`](https://matplotlib.org/stable/gallery/shapes_and_collections/scatter.html) method in matplotlib."
   ]
  },
  {
   "cell_type": "code",
   "execution_count": 6,
   "metadata": {},
   "outputs": [],
   "source": [
    "# TODO"
   ]
  }
 ],
 "metadata": {
  "kernelspec": {
   "display_name": "Python 3.10.7 64-bit",
   "language": "python",
   "name": "python3"
  },
  "language_info": {
   "codemirror_mode": {
    "name": "ipython",
    "version": 3
   },
   "file_extension": ".py",
   "mimetype": "text/x-python",
   "name": "python",
   "nbconvert_exporter": "python",
   "pygments_lexer": "ipython3",
   "version": "3.11.4"
  },
  "orig_nbformat": 4,
  "vscode": {
   "interpreter": {
    "hash": "bf1d2f64194ace10997c434eb354cb799c52230f6de3baccf2e25d391e28e00a"
   }
  }
 },
 "nbformat": 4,
 "nbformat_minor": 2
}
