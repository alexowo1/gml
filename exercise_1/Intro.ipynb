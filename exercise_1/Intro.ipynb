{
 "cells": [
  {
   "cell_type": "markdown",
   "metadata": {},
   "source": [
    "# Introduction to Data Processing with Numpy"
   ]
  },
  {
   "cell_type": "code",
   "metadata": {
    "ExecuteTime": {
     "end_time": "2025-05-12T22:56:46.636110Z",
     "start_time": "2025-05-12T22:56:45.199407Z"
    }
   },
   "source": [
    "%pip install numpy\n",
    "import numpy as np"
   ],
   "outputs": [
    {
     "name": "stdout",
     "output_type": "stream",
     "text": [
      "Requirement already satisfied: numpy in c:\\ausbildung\\uni\\gml\\exercises\\.venv\\lib\\site-packages (2.2.5)\n",
      "Note: you may need to restart the kernel to use updated packages.\n"
     ]
    }
   ],
   "execution_count": 1
  },
  {
   "cell_type": "markdown",
   "metadata": {},
   "source": [
    "The central datastructure offered by Numpy is the `ndarray`, a versatile multi-dimensional typed array datastructure with fixed size.\n",
    "Internally an `ndarray` is a struct with the following fields:\n",
    "- `data`: A pointer to a buffer of contiguous memory.\n",
    "- `shape`: A tuple of integers, describing the size of each dimension, i.e., `(3, 4)` denotes a $3 \\times 4$ matrix.\n",
    "- `dtype`: The datatype of the elements in `buffer`, e.g., `np.float64` or `np.int16`.\n",
    "- `strides`: A tuple of integers describing the byte stride size for each dimension."
   ]
  },
  {
   "cell_type": "code",
   "metadata": {
    "ExecuteTime": {
     "end_time": "2025-05-12T22:56:55.172667Z",
     "start_time": "2025-05-12T22:56:55.166544Z"
    }
   },
   "source": [
    "X = np.arange(\n",
    "    12, dtype=np.int16\n",
    ")  # Create a 1-dimensional int16 ndarray containing the numbers 0 to 11.\n",
    "print(f\"{X=}\")\n",
    "\n",
    "print(f\"X.data=<ptr 0x{X.ctypes.data:x}>\")\n",
    "\n",
    "print(f\"{X.shape=}\")\n",
    "\n",
    "print(f\"{X.dtype=} ({X.itemsize=} bytes)\")\n",
    "print(f\"{X.strides=}\")"
   ],
   "outputs": [
    {
     "name": "stdout",
     "output_type": "stream",
     "text": [
      "X=array([ 0,  1,  2,  3,  4,  5,  6,  7,  8,  9, 10, 11], dtype=int16)\n",
      "X.data=<ptr 0x15b4b47ca30>\n",
      "X.shape=(12,)\n",
      "X.dtype=dtype('int16') (X.itemsize=2 bytes)\n",
      "X.strides=(2,)\n"
     ]
    }
   ],
   "execution_count": 2
  },
  {
   "cell_type": "markdown",
   "metadata": {},
   "source": [
    "Numpy offers a large collection of efficient multi-threaded operations for the `ndarray` datastructure.\n",
    "Many operations can even be performed in $\\mathcal{O}(1)$ time, by simply changing the `shape` or `strides` tuples without touching the values in the `data` buffer.\n",
    "Three very useful operations, which (often) run in constant time, are reshaping, transposition and slicing.\n",
    "\n",
    "## 1. Reshaping and Transposition\n",
    "\n",
    "We begin by reshaping the array $X = [0, \\dots, 11]$ defined above into a $3 \\times 4$ matrix and then taking its transpose:"
   ]
  },
  {
   "cell_type": "code",
   "metadata": {
    "ExecuteTime": {
     "end_time": "2025-05-12T22:56:59.745453Z",
     "start_time": "2025-05-12T22:56:59.738805Z"
    }
   },
   "source": [
    "Y = X.reshape((3, 4))\n",
    "print(\"The array X viewed as a 3 by 4 matrix:\")\n",
    "print(Y)\n",
    "print(\n",
    "    f\"Both arrays are backed by the same data buffer: X.data=<ptr 0x{X.ctypes.data:x}>, Y.data=<ptr 0x{Y.ctypes.data:x}>.\"\n",
    ")\n",
    "print(f\"Only the shape and strides had to be changed:\")\n",
    "print(f\"{X.shape=} -> {Y.shape=}\")\n",
    "print(f\"{X.strides=} -> {Y.strides=}\")"
   ],
   "outputs": [
    {
     "name": "stdout",
     "output_type": "stream",
     "text": [
      "The array X viewed as a 3 by 4 matrix:\n",
      "[[ 0  1  2  3]\n",
      " [ 4  5  6  7]\n",
      " [ 8  9 10 11]]\n",
      "Both arrays are backed by the same data buffer: X.data=<ptr 0x15b4b47ca30>, Y.data=<ptr 0x15b4b47ca30>.\n",
      "Only the shape and strides had to be changed:\n",
      "X.shape=(12,) -> Y.shape=(3, 4)\n",
      "X.strides=(2,) -> Y.strides=(8, 2)\n"
     ]
    }
   ],
   "execution_count": 3
  },
  {
   "cell_type": "code",
   "metadata": {
    "ExecuteTime": {
     "end_time": "2025-05-12T22:57:05.233757Z",
     "start_time": "2025-05-12T22:57:05.227604Z"
    }
   },
   "source": [
    "print(\"Next, we transpose Y (via Y.T):\")\n",
    "print(Y.T)\n",
    "print(\n",
    "    f\"This, again, does not change the data buffer: Y.data = Y.T.data = <ptr 0x{Y.T.ctypes.data:x}>\"\n",
    ")\n",
    "print(f\"Only the shape and strides tuples had to be reversed:\")\n",
    "print(f\"{Y.shape=} -> {Y.T.shape=}\")\n",
    "print(f\"{Y.strides=} -> {Y.T.strides=}\")"
   ],
   "outputs": [
    {
     "name": "stdout",
     "output_type": "stream",
     "text": [
      "Next, we transpose Y (via Y.T):\n",
      "[[ 0  4  8]\n",
      " [ 1  5  9]\n",
      " [ 2  6 10]\n",
      " [ 3  7 11]]\n",
      "This, again, does not change the data buffer: Y.data = Y.T.data = <ptr 0x15b4b47ca30>\n",
      "Only the shape and strides tuples had to be reversed:\n",
      "Y.shape=(3, 4) -> Y.T.shape=(4, 3)\n",
      "Y.strides=(8, 2) -> Y.T.strides=(2, 8)\n"
     ]
    }
   ],
   "execution_count": 4
  },
  {
   "cell_type": "markdown",
   "metadata": {},
   "source": [
    "## 2. Slicing\n",
    "\n",
    "In addition to reshaping, we can also create subarrays from a given array in constant time: "
   ]
  },
  {
   "cell_type": "code",
   "metadata": {
    "ExecuteTime": {
     "end_time": "2025-05-12T22:57:09.050392Z",
     "start_time": "2025-05-12T22:57:09.044559Z"
    }
   },
   "source": [
    "print(\"Simple slicing example:\")\n",
    "print(f\"{X[2:]=}\")\n",
    "print(\n",
    "    f\"Data pointer difference between X and X[2:]: {X[2:].ctypes.data - X.ctypes.data} bytes\"\n",
    ")"
   ],
   "outputs": [
    {
     "name": "stdout",
     "output_type": "stream",
     "text": [
      "Simple slicing example:\n",
      "X[2:]=array([ 2,  3,  4,  5,  6,  7,  8,  9, 10, 11], dtype=int16)\n",
      "Data pointer difference between X and X[2:]: 4 bytes\n"
     ]
    }
   ],
   "execution_count": 5
  },
  {
   "cell_type": "code",
   "metadata": {
    "ExecuteTime": {
     "end_time": "2025-05-12T22:57:12.160115Z",
     "start_time": "2025-05-12T22:57:12.153406Z"
    }
   },
   "source": [
    "print(\"Multidimensional slice + adding a third dimension of size 1:\")\n",
    "Y_sub = Y[1:, -3:-1, None]\n",
    "print(f\"{Y_sub=}, {Y_sub.shape=}\")\n",
    "print(\n",
    "    f\"Data pointer difference between Y and Y_sub: {Y_sub.ctypes.data - Y.ctypes.data} bytes\"\n",
    ")\n",
    "print(f\"{Y.strides=} -> {Y_sub.strides=}\")"
   ],
   "outputs": [
    {
     "name": "stdout",
     "output_type": "stream",
     "text": [
      "Multidimensional slice + adding a third dimension of size 1:\n",
      "Y_sub=array([[[ 5],\n",
      "        [ 6]],\n",
      "\n",
      "       [[ 9],\n",
      "        [10]]], dtype=int16), Y_sub.shape=(2, 2, 1)\n",
      "Data pointer difference between Y and Y_sub: 10 bytes\n",
      "Y.strides=(8, 2) -> Y_sub.strides=(8, 2, 0)\n"
     ]
    }
   ],
   "execution_count": 6
  },
  {
   "cell_type": "markdown",
   "metadata": {},
   "source": [
    "## 3. Vectorization and Broadcasting\n",
    "\n",
    "As we have just seen, quite a few operations on `ndarray`s can be performed very efficiently without actually changing the data buffer.\n",
    "However, achieving constant runtime is of course not always possible; performing an arithmetic operation on every element of an arbitrary $n$-element array is in $\\Omega(n)$.\n",
    "\n",
    "Numpy uses highly optimized multithreaded C implementations internally, which makes such array operations still very fast, much faster than using loops in Python.\n",
    "Replacing a slow Python loop with calls to efficient native parallel implementations is called *vectorization*."
   ]
  },
  {
   "cell_type": "code",
   "metadata": {
    "ExecuteTime": {
     "end_time": "2025-05-12T22:57:46.054653Z",
     "start_time": "2025-05-12T22:57:28.476174Z"
    }
   },
   "source": [
    "print(\"Computing the first 100000 square numbers using numpy:\")\n",
    "%timeit (np.arange(100000, dtype=np.int64) + 1) ** 2\n",
    "\n",
    "print(\"Computing the first 100000 square numbers using a Python list comprehension:\")\n",
    "%timeit [(z + 1) ** 2 for z in range(100000)]"
   ],
   "outputs": [
    {
     "name": "stdout",
     "output_type": "stream",
     "text": [
      "Computing the first 100000 square numbers using numpy:\n",
      "130 μs ± 1.03 μs per loop (mean ± std. dev. of 7 runs, 10,000 loops each)\n",
      "Computing the first 100000 square numbers using a Python list comprehension:\n",
      "8.61 ms ± 122 μs per loop (mean ± std. dev. of 7 runs, 100 loops each)\n"
     ]
    }
   ],
   "execution_count": 7
  },
  {
   "cell_type": "markdown",
   "metadata": {},
   "source": [
    "Vectorization can also be used to apply an element-wise filter to an array.\n",
    "We can, for example, use it to remove all odd numbers from the array $X = [0, \\dots, 11]$ we defined above: "
   ]
  },
  {
   "cell_type": "code",
   "metadata": {
    "ExecuteTime": {
     "end_time": "2025-05-12T22:58:04.251435Z",
     "start_time": "2025-05-12T22:58:04.245792Z"
    }
   },
   "source": [
    "print(\n",
    "    \"Applying a boolean operator to an ndarray results in a boolean ndarray:\",\n",
    "    X % 2 == 0,\n",
    ")\n",
    "\n",
    "print(\"Boolean arrays can be used as indices, to filter other arrays:\", X[X % 2 == 0])"
   ],
   "outputs": [
    {
     "name": "stdout",
     "output_type": "stream",
     "text": [
      "Applying a boolean operator to an ndarray results in a boolean ndarray: [ True False  True False  True False  True False  True False  True False]\n",
      "Boolean arrays can be used as indices, to filter other arrays: [ 0  2  4  6  8 10]\n"
     ]
    }
   ],
   "execution_count": 8
  },
  {
   "cell_type": "markdown",
   "metadata": {},
   "source": [
    "Numpy can not only apply operations to each element of a given array, it also supports the combination of arrays of differing shapes via a technique called [*broadcasting*](https://numpy.org/doc/stable/user/basics.broadcasting.html).\n",
    "To get an intuition for what broadcasting is, we use it to add a vector to each row and to each column of the $3 \\times 4$ matrix $Y$:"
   ]
  },
  {
   "cell_type": "code",
   "metadata": {
    "ExecuteTime": {
     "end_time": "2025-05-12T22:58:08.578237Z",
     "start_time": "2025-05-12T22:58:08.571962Z"
    }
   },
   "source": [
    "print(f\"{Y=}\")\n",
    "a = np.array([1, 0, -1, 0])\n",
    "print(f\"We add {a=} to each row of Y:\")\n",
    "Y_a = Y + a.reshape((1, -1))\n",
    "print(Y_a)\n",
    "\n",
    "b = a[:-1]\n",
    "print(f\"We add {b=} to each column of Y:\")\n",
    "Y_b = Y + b.reshape((-1, 1))\n",
    "print(Y_b)"
   ],
   "outputs": [
    {
     "name": "stdout",
     "output_type": "stream",
     "text": [
      "Y=array([[ 0,  1,  2,  3],\n",
      "       [ 4,  5,  6,  7],\n",
      "       [ 8,  9, 10, 11]], dtype=int16)\n",
      "We add a=array([ 1,  0, -1,  0]) to each row of Y:\n",
      "[[ 1  1  1  3]\n",
      " [ 5  5  5  7]\n",
      " [ 9  9  9 11]]\n",
      "We add b=array([ 1,  0, -1]) to each column of Y:\n",
      "[[ 1  2  3  4]\n",
      " [ 4  5  6  7]\n",
      " [ 7  8  9 10]]\n"
     ]
    }
   ],
   "execution_count": 9
  },
  {
   "cell_type": "markdown",
   "metadata": {},
   "source": [
    "The following example shows how broadcasting can even be used to compute the products of all pairs of elements in $X = [1, \\dots, 11]$:"
   ]
  },
  {
   "cell_type": "code",
   "metadata": {
    "ExecuteTime": {
     "end_time": "2025-05-12T22:58:28.656437Z",
     "start_time": "2025-05-12T22:58:28.649437Z"
    }
   },
   "source": [
    "X.reshape((-1, 1)) * X.reshape((1, -1))"
   ],
   "outputs": [
    {
     "data": {
      "text/plain": [
       "array([[  0,   0,   0,   0,   0,   0,   0,   0,   0,   0,   0,   0],\n",
       "       [  0,   1,   2,   3,   4,   5,   6,   7,   8,   9,  10,  11],\n",
       "       [  0,   2,   4,   6,   8,  10,  12,  14,  16,  18,  20,  22],\n",
       "       [  0,   3,   6,   9,  12,  15,  18,  21,  24,  27,  30,  33],\n",
       "       [  0,   4,   8,  12,  16,  20,  24,  28,  32,  36,  40,  44],\n",
       "       [  0,   5,  10,  15,  20,  25,  30,  35,  40,  45,  50,  55],\n",
       "       [  0,   6,  12,  18,  24,  30,  36,  42,  48,  54,  60,  66],\n",
       "       [  0,   7,  14,  21,  28,  35,  42,  49,  56,  63,  70,  77],\n",
       "       [  0,   8,  16,  24,  32,  40,  48,  56,  64,  72,  80,  88],\n",
       "       [  0,   9,  18,  27,  36,  45,  54,  63,  72,  81,  90,  99],\n",
       "       [  0,  10,  20,  30,  40,  50,  60,  70,  80,  90, 100, 110],\n",
       "       [  0,  11,  22,  33,  44,  55,  66,  77,  88,  99, 110, 121]],\n",
       "      dtype=int16)"
      ]
     },
     "execution_count": 11,
     "metadata": {},
     "output_type": "execute_result"
    }
   ],
   "execution_count": 11
  }
 ],
 "metadata": {
  "kernelspec": {
   "display_name": "Python 3 (ipykernel)",
   "language": "python",
   "name": "python3"
  },
  "language_info": {
   "codemirror_mode": {
    "name": "ipython",
    "version": 3
   },
   "file_extension": ".py",
   "mimetype": "text/x-python",
   "name": "python",
   "nbconvert_exporter": "python",
   "pygments_lexer": "ipython3",
   "version": "3.13.2"
  }
 },
 "nbformat": 4,
 "nbformat_minor": 4
}
