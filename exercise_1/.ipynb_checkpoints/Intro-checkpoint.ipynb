{
 "cells": [
  {
   "cell_type": "markdown",
   "metadata": {},
   "source": [
    "# Introduction to Data Processing with Numpy"
   ]
  },
  {
   "cell_type": "code",
   "metadata": {
    "ExecuteTime": {
     "end_time": "2025-05-12T20:23:36.937355Z",
     "start_time": "2025-05-12T20:23:28.405394Z"
    }
   },
   "source": [
    "%pip install numpy\n",
    "import numpy as np"
   ],
   "outputs": [
    {
     "name": "stdout",
     "output_type": "stream",
     "text": [
      "Requirement already satisfied: numpy in c:\\ausbildung\\uni\\gml\\exercises\\.venv\\lib\\site-packages (2.2.5)\n",
      "Note: you may need to restart the kernel to use updated packages.\n"
     ]
    },
    {
     "name": "stderr",
     "output_type": "stream",
     "text": [
      "\n",
      "[notice] A new release of pip is available: 23.2.1 -> 25.1.1\n",
      "[notice] To update, run: python.exe -m pip install --upgrade pip\n"
     ]
    }
   ],
   "execution_count": 1
  },
  {
   "cell_type": "markdown",
   "metadata": {},
   "source": [
    "The central datastructure offered by Numpy is the `ndarray`, a versatile multi-dimensional typed array datastructure with fixed size.\n",
    "Internally an `ndarray` is a struct with the following fields:\n",
    "- `data`: A pointer to a buffer of contiguous memory.\n",
    "- `shape`: A tuple of integers, describing the size of each dimension, i.e., `(3, 4)` denotes a $3 \\times 4$ matrix.\n",
    "- `dtype`: The datatype of the elements in `buffer`, e.g., `np.float64` or `np.int16`.\n",
    "- `strides`: A tuple of integers describing the byte stride size for each dimension."
   ]
  },
  {
   "cell_type": "code",
   "execution_count": null,
   "metadata": {},
   "outputs": [],
   "source": [
    "X = np.arange(\n",
    "    12, dtype=np.int16\n",
    ")  # Create a 1-dimensional int16 ndarray containing the numbers 0 to 11.\n",
    "print(f\"{X=}\")\n",
    "\n",
    "print(f\"X.data=<ptr 0x{X.ctypes.data:x}>\")\n",
    "\n",
    "print(f\"{X.shape=}\")\n",
    "\n",
    "print(f\"{X.dtype=} ({X.itemsize=} bytes)\")\n",
    "print(f\"{X.strides=}\")"
   ]
  },
  {
   "cell_type": "markdown",
   "metadata": {},
   "source": [
    "Numpy offers a large collection of efficient multi-threaded operations for the `ndarray` datastructure.\n",
    "Many operations can even be performed in $\\mathcal{O}(1)$ time, by simply changing the `shape` or `strides` tuples without touching the values in the `data` buffer.\n",
    "Three very useful operations, which (often) run in constant time, are reshaping, transposition and slicing.\n",
    "\n",
    "## 1. Reshaping and Transposition\n",
    "\n",
    "We begin by reshaping the array $X = [0, \\dots, 11]$ defined above into a $3 \\times 4$ matrix and then taking its transpose:"
   ]
  },
  {
   "cell_type": "code",
   "execution_count": null,
   "metadata": {},
   "outputs": [],
   "source": [
    "Y = X.reshape((3, 4))\n",
    "print(\"The array X viewed as a 3 by 4 matrix:\")\n",
    "print(Y)\n",
    "print(\n",
    "    f\"Both arrays are backed by the same data buffer: X.data=<ptr 0x{X.ctypes.data:x}>, Y.data=<ptr 0x{Y.ctypes.data:x}>.\"\n",
    ")\n",
    "print(f\"Only the shape and strides had to be changed:\")\n",
    "print(f\"{X.shape=} -> {Y.shape=}\")\n",
    "print(f\"{X.strides=} -> {Y.strides=}\")"
   ]
  },
  {
   "cell_type": "code",
   "execution_count": null,
   "metadata": {},
   "outputs": [],
   "source": [
    "print(\"Next, we transpose Y (via Y.T):\")\n",
    "print(Y.T)\n",
    "print(\n",
    "    f\"This, again, does not change the data buffer: Y.data = Y.T.data = <ptr 0x{Y.T.ctypes.data:x}>\"\n",
    ")\n",
    "print(f\"Only the shape and strides tuples had to be reversed:\")\n",
    "print(f\"{Y.shape=} -> {Y.T.shape=}\")\n",
    "print(f\"{Y.strides=} -> {Y.T.strides=}\")"
   ]
  },
  {
   "cell_type": "markdown",
   "metadata": {},
   "source": [
    "## 2. Slicing\n",
    "\n",
    "In addition to reshaping, we can also create subarrays from a given array in constant time: "
   ]
  },
  {
   "cell_type": "code",
   "execution_count": null,
   "metadata": {},
   "outputs": [],
   "source": [
    "print(\"Simple slicing example:\")\n",
    "print(f\"{X[2:]=}\")\n",
    "print(\n",
    "    f\"Data pointer difference between X and X[2:]: {X[2:].ctypes.data - X.ctypes.data} bytes\"\n",
    ")"
   ]
  },
  {
   "cell_type": "code",
   "execution_count": null,
   "metadata": {},
   "outputs": [],
   "source": [
    "print(\"Multidimensional slice + adding a third dimension of size 1:\")\n",
    "Y_sub = Y[1:, -3:-1, None]\n",
    "print(f\"{Y_sub=}, {Y_sub.shape=}\")\n",
    "print(\n",
    "    f\"Data pointer difference between Y and Y_sub: {Y_sub.ctypes.data - Y.ctypes.data} bytes\"\n",
    ")\n",
    "print(f\"{Y.strides=} -> {Y_sub.strides=}\")"
   ]
  },
  {
   "cell_type": "markdown",
   "metadata": {},
   "source": [
    "## 3. Vectorization and Broadcasting\n",
    "\n",
    "As we have just seen, quite a few operations on `ndarray`s can be performed very efficiently without actually changing the data buffer.\n",
    "However, achieving constant runtime is of course not always possible; performing an arithmetic operation on every element of an arbitrary $n$-element array is in $\\Omega(n)$.\n",
    "\n",
    "Numpy uses highly optimized multithreaded C implementations internally, which makes such array operations still very fast, much faster than using loops in Python.\n",
    "Replacing a slow Python loop with calls to efficient native parallel implementations is called *vectorization*."
   ]
  },
  {
   "cell_type": "code",
   "execution_count": null,
   "metadata": {},
   "outputs": [],
   "source": [
    "print(\"Computing the first 100000 square numbers using numpy:\")\n",
    "%timeit (np.arange(100000, dtype=np.int64) + 1) ** 2\n",
    "\n",
    "print(\"Computing the first 100000 square numbers using a Python list comprehension:\")\n",
    "%timeit [(z + 1) ** 2 for z in range(100000)]"
   ]
  },
  {
   "cell_type": "markdown",
   "metadata": {},
   "source": [
    "Vectorization can also be used to apply an element-wise filter to an array.\n",
    "We can, for example, use it to remove all odd numbers from the array $X = [0, \\dots, 11]$ we defined above: "
   ]
  },
  {
   "cell_type": "code",
   "execution_count": null,
   "metadata": {},
   "outputs": [],
   "source": [
    "print(\n",
    "    \"Applying a boolean operator to an ndarray results in a boolean ndarray:\",\n",
    "    X % 2 == 0,\n",
    ")\n",
    "\n",
    "print(\"Boolean arrays can be used as indices, to filter other arrays:\", X[X % 2 == 0])"
   ]
  },
  {
   "cell_type": "markdown",
   "metadata": {},
   "source": [
    "Numpy can not only apply operations to each element of a given array, it also supports the combination of arrays of differing shapes via a technique called [*broadcasting*](https://numpy.org/doc/stable/user/basics.broadcasting.html).\n",
    "To get an intuition for what broadcasting is, we use it to add a vector to each row and to each column of the $3 \\times 4$ matrix $Y$:"
   ]
  },
  {
   "cell_type": "code",
   "execution_count": null,
   "metadata": {},
   "outputs": [],
   "source": [
    "print(f\"{Y=}\")\n",
    "a = np.array([1, 0, -1, 0])\n",
    "print(f\"We add {a=} to each row of Y:\")\n",
    "Y_a = Y + a.reshape((1, -1))\n",
    "print(Y_a)\n",
    "\n",
    "b = a[:-1]\n",
    "print(f\"We add {b=} to each column of Y:\")\n",
    "Y_b = Y + b.reshape((-1, 1))\n",
    "print(Y_b)"
   ]
  },
  {
   "cell_type": "markdown",
   "metadata": {},
   "source": [
    "The following example shows how broadcasting can even be used to compute the products of all pairs of elements in $X = [1, \\dots, 11]$:"
   ]
  },
  {
   "cell_type": "code",
   "execution_count": null,
   "metadata": {},
   "outputs": [],
   "source": [
    "X.reshape((-1, 1)) * X.reshape((1, -1))"
   ]
  }
 ],
 "metadata": {
  "kernelspec": {
   "display_name": "Python 3 (ipykernel)",
   "language": "python",
   "name": "python3"
  },
  "language_info": {
   "codemirror_mode": {
    "name": "ipython",
    "version": 3
   },
   "file_extension": ".py",
   "mimetype": "text/x-python",
   "name": "python",
   "nbconvert_exporter": "python",
   "pygments_lexer": "ipython3",
   "version": "3.13.2"
  }
 },
 "nbformat": 4,
 "nbformat_minor": 4
}
